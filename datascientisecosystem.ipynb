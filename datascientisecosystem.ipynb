{
 "cells": [
  {
   "cell_type": "code",
   "execution_count": 14,
   "id": "e848f7d0",
   "metadata": {},
   "outputs": [
    {
     "data": {
      "text/markdown": [
       "# Data Science Tools and Ecosystem"
      ],
      "text/plain": [
       "<IPython.core.display.Markdown object>"
      ]
     },
     "metadata": {},
     "output_type": "display_data"
    }
   ],
   "source": [
    "display(Markdown(\"# Data Science Tools and Ecosystem\"))\n"
   ]
  },
  {
   "cell_type": "code",
   "execution_count": 16,
   "id": "64f2c305",
   "metadata": {},
   "outputs": [
    {
     "data": {
      "text/markdown": [
       "### In this notebook, Data Science Tools and Ecosystem are summarized."
      ],
      "text/plain": [
       "<IPython.core.display.Markdown object>"
      ]
     },
     "metadata": {},
     "output_type": "display_data"
    }
   ],
   "source": [
    "display(Markdown(\"### In this notebook, Data Science Tools and Ecosystem are summarized.\"))"
   ]
  },
  {
   "cell_type": "code",
   "execution_count": 17,
   "id": "bcbb2d81",
   "metadata": {},
   "outputs": [
    {
     "data": {
      "text/markdown": [
       "#### Some of the popular languages that Data Scientists use are: python , r , sql "
      ],
      "text/plain": [
       "<IPython.core.display.Markdown object>"
      ]
     },
     "metadata": {},
     "output_type": "display_data"
    }
   ],
   "source": [
    "display(Markdown(\"#### Some of the popular languages that Data Scientists use are: python , r , sql \"))"
   ]
  },
  {
   "cell_type": "code",
   "execution_count": 18,
   "id": "0da83788",
   "metadata": {},
   "outputs": [
    {
     "data": {
      "text/markdown": [
       "#### Data Science Tools and Ecosystem:ibm wtson, penda, numpy  "
      ],
      "text/plain": [
       "<IPython.core.display.Markdown object>"
      ]
     },
     "metadata": {},
     "output_type": "display_data"
    }
   ],
   "source": [
    "display(Markdown(\"#### Data Science Tools and Ecosystem:ibm wtson, penda, numpy  \"))\n"
   ]
  },
  {
   "cell_type": "code",
   "execution_count": 20,
   "id": "d6f71a01",
   "metadata": {},
   "outputs": [
    {
     "data": {
      "text/html": [
       "<div>\n",
       "<style scoped>\n",
       "    .dataframe tbody tr th:only-of-type {\n",
       "        vertical-align: middle;\n",
       "    }\n",
       "\n",
       "    .dataframe tbody tr th {\n",
       "        vertical-align: top;\n",
       "    }\n",
       "\n",
       "    .dataframe thead th {\n",
       "        text-align: right;\n",
       "    }\n",
       "</style>\n",
       "<table border=\"1\" class=\"dataframe\">\n",
       "  <thead>\n",
       "    <tr style=\"text-align: right;\">\n",
       "      <th></th>\n",
       "      <th>Data Science Tools</th>\n",
       "    </tr>\n",
       "  </thead>\n",
       "  <tbody>\n",
       "    <tr>\n",
       "      <th>0</th>\n",
       "      <td>Jupyter Notebook</td>\n",
       "    </tr>\n",
       "    <tr>\n",
       "      <th>1</th>\n",
       "      <td>Pandas</td>\n",
       "    </tr>\n",
       "    <tr>\n",
       "      <th>2</th>\n",
       "      <td>Scikit-learn</td>\n",
       "    </tr>\n",
       "  </tbody>\n",
       "</table>\n",
       "</div>"
      ],
      "text/plain": [
       "  Data Science Tools\n",
       "0   Jupyter Notebook\n",
       "1             Pandas\n",
       "2       Scikit-learn"
      ]
     },
     "metadata": {},
     "output_type": "display_data"
    }
   ],
   "source": [
    "import pandas as pd\n",
    "\n",
    "# Create a DataFrame with one column\n",
    "data = ['Jupyter Notebook', 'Pandas', 'Scikit-learn']\n",
    "df = pd.DataFrame(data, columns=['Data Science Tools'])\n",
    "\n",
    "# Display the DataFrame\n",
    "display(df)"
   ]
  },
  {
   "cell_type": "code",
   "execution_count": 24,
   "id": "22a6de8f",
   "metadata": {},
   "outputs": [
    {
     "data": {
      "text/markdown": [
       "### Below are a few examples of evaluating arithmetic expressions in Python."
      ],
      "text/plain": [
       "<IPython.core.display.Markdown object>"
      ]
     },
     "metadata": {},
     "output_type": "display_data"
    }
   ],
   "source": [
    "display(Markdown(\"### Below are a few examples of evaluating arithmetic expressions in Python.\"))\n"
   ]
  },
  {
   "cell_type": "code",
   "execution_count": 25,
   "id": "f74dec74",
   "metadata": {},
   "outputs": [
    {
     "data": {
      "text/plain": [
       "17"
      ]
     },
     "execution_count": 25,
     "metadata": {},
     "output_type": "execute_result"
    }
   ],
   "source": [
    "(3*4)+5"
   ]
  },
  {
   "cell_type": "code",
   "execution_count": 26,
   "id": "0a7ae753",
   "metadata": {},
   "outputs": [
    {
     "name": "stdout",
     "output_type": "stream",
     "text": [
      "200 minutes is equal to 3.3333333333333335 hours.\n"
     ]
    }
   ],
   "source": [
    "\n",
    "minutes = 200\n",
    "hours = minutes / 60\n",
    "print(f\"{minutes} minutes is equal to {hours} hours.\")"
   ]
  },
  {
   "cell_type": "code",
   "execution_count": 30,
   "id": "d1634f68",
   "metadata": {},
   "outputs": [
    {
     "ename": "SyntaxError",
     "evalue": "invalid syntax (2447880231.py, line 3)",
     "output_type": "error",
     "traceback": [
      "\u001b[1;36m  Cell \u001b[1;32mIn[30], line 3\u001b[1;36m\u001b[0m\n\u001b[1;33m    - Create and manipulate DataFrames using pandas.\u001b[0m\n\u001b[1;37m                            ^\u001b[0m\n\u001b[1;31mSyntaxError\u001b[0m\u001b[1;31m:\u001b[0m invalid syntax\n"
     ]
    }
   ],
   "source": [
    "**Objectives:**\n",
    "- python, r, sql\n",
    "- Create and manipulate DataFrames using pandas.\n",
    "- Perform basic data cleaning and exploration tasks.\n"
   ]
  },
  {
   "cell_type": "code",
   "execution_count": 29,
   "id": "86088138",
   "metadata": {},
   "outputs": [
    {
     "data": {
      "text/markdown": [
       "## AUTHOR"
      ],
      "text/plain": [
       "<IPython.core.display.Markdown object>"
      ]
     },
     "metadata": {},
     "output_type": "display_data"
    },
    {
     "data": {
      "text/markdown": [
       "GUISSE MOHAMED "
      ],
      "text/plain": [
       "<IPython.core.display.Markdown object>"
      ]
     },
     "metadata": {},
     "output_type": "display_data"
    }
   ],
   "source": [
    "display(Markdown(\"## AUTHOR\"))\n",
    "display(Markdown(\"GUISSE MOHAMED \"))\n"
   ]
  },
  {
   "cell_type": "code",
   "execution_count": null,
   "id": "880103ba",
   "metadata": {},
   "outputs": [],
   "source": []
  }
 ],
 "metadata": {
  "kernelspec": {
   "display_name": "Python 3 (ipykernel)",
   "language": "python",
   "name": "python3"
  },
  "language_info": {
   "codemirror_mode": {
    "name": "ipython",
    "version": 3
   },
   "file_extension": ".py",
   "mimetype": "text/x-python",
   "name": "python",
   "nbconvert_exporter": "python",
   "pygments_lexer": "ipython3",
   "version": "3.11.4"
  }
 },
 "nbformat": 4,
 "nbformat_minor": 5
}
