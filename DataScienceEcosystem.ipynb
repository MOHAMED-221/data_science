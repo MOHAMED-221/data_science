{
 "cells": [
  {
   "cell_type": "code",
   "execution_count": 5,
   "id": "4b973cba",
   "metadata": {},
   "outputs": [],
   "source": [
    "#Outils et écosystème de la Data Science"
   ]
  },
  {
   "cell_type": "code",
   "execution_count": 7,
   "id": "043d3364",
   "metadata": {},
   "outputs": [],
   "source": [
    "#Ce notebook présente un résumé des outils et de l'écosystème de la Data Science"
   ]
  },
  {
   "cell_type": "code",
   "execution_count": 8,
   "id": "fa443aca",
   "metadata": {},
   "outputs": [],
   "source": [
    "#oici quelques-uns des langages populaires utilisés par les Data Scientists :"
   ]
  },
  {
   "cell_type": "code",
   "execution_count": 9,
   "id": "810b1755",
   "metadata": {},
   "outputs": [],
   "source": [
    "#Python, R, SQL"
   ]
  },
  {
   "cell_type": "code",
   "execution_count": 10,
   "id": "972d49fd",
   "metadata": {},
   "outputs": [],
   "source": [
    "#Parmi les bibliothèques couramment utilisées par les Data Scientists figurent :NumPy, Pandas, Matplotlib"
   ]
  },
  {
   "cell_type": "code",
   "execution_count": null,
   "id": "c0f98b32",
   "metadata": {},
   "outputs": [],
   "source": []
  }
 ],
 "metadata": {
  "kernelspec": {
   "display_name": "Python 3 (ipykernel)",
   "language": "python",
   "name": "python3"
  },
  "language_info": {
   "codemirror_mode": {
    "name": "ipython",
    "version": 3
   },
   "file_extension": ".py",
   "mimetype": "text/x-python",
   "name": "python",
   "nbconvert_exporter": "python",
   "pygments_lexer": "ipython3",
   "version": "3.11.4"
  }
 },
 "nbformat": 4,
 "nbformat_minor": 5
}
